{
 "cells": [
  {
   "cell_type": "code",
   "execution_count": 25,
   "metadata": {},
   "outputs": [
    {
     "name": "stdout",
     "output_type": "stream",
     "text": [
      "base model\n",
      "0.785448667980509 +/- 0.12786601493355934\n",
      "0.7476086994646544 +/- 0.0633094377488561\n",
      "0.8021087619480888 +/- 0.11243554131923485\n",
      "0.640847290591961 +/- 0.1600790537107903\n",
      "stacking model\n",
      "0.796858117360775 +/- 0.10704109022037239\n",
      "loss is 2.0322374956423994\n"
     ]
    }
   ],
   "source": [
    "from mlxtend.regressor import StackingCVRegressor\n",
    "from mlxtend.data import boston_housing_data\n",
    "from sklearn.linear_model import LinearRegression, Ridge, Lasso\n",
    "from sklearn.svm import SVR\n",
    "from sklearn.model_selection import train_test_split, GridSearchCV, cross_val_score\n",
    "from sklearn.metrics import mean_squared_error\n",
    "import numpy as np\n",
    "import matplotlib.pyplot as plt\n",
    "\n",
    "\n",
    "x, y = boston_housing_data()\n",
    "x = x[:100]\n",
    "y = y[:100]\n",
    "# 划分数据集\n",
    "x_train, x_test, y_train, y_test = train_test_split(x, y, test_size=0.2)\n",
    "# 初始化基模型\n",
    "lr = LinearRegression()\n",
    "svr_lin = SVR(kernel='linear', gamma='auto')\n",
    "ridge = Ridge(random_state=2019,)\n",
    "lasso =Lasso()\n",
    "models = [lr, svr_lin, ridge, lasso]\n",
    "\n",
    "print(\"base model\")\n",
    "for model in models:\n",
    "    score = cross_val_score(model, x_train, y_train, cv=5)\n",
    "    print(score.mean(), \"+/-\", score.std())\n",
    "sclf = StackingCVRegressor(regressors=models, meta_regressor=lasso)\n",
    "# 训练回归器\n",
    "print(\"stacking model\")\n",
    "score = cross_val_score(sclf, x_train, y_train, cv=5)\n",
    "print(score.mean(), \"+/-\", score.std())\n",
    "\n",
    "sclf.fit(x_train, y_train)\n",
    "pred = sclf.predict(x_test)\n",
    "print(\"loss is {}\".format(mean_squared_error(y_test, pred)))"
   ]
  }
 ],
 "metadata": {
  "kernelspec": {
   "display_name": "Python 3",
   "language": "python",
   "name": "python3"
  },
  "language_info": {
   "codemirror_mode": {
    "name": "ipython",
    "version": 3
   },
   "file_extension": ".py",
   "mimetype": "text/x-python",
   "name": "python",
   "nbconvert_exporter": "python",
   "pygments_lexer": "ipython3",
   "version": "3.6.8"
  }
 },
 "nbformat": 4,
 "nbformat_minor": 2
}
