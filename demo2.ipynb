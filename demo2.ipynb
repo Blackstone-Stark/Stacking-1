{
 "cells": [
  {
   "cell_type": "code",
   "execution_count": 28,
   "metadata": {},
   "outputs": [
    {
     "name": "stdout",
     "output_type": "stream",
     "text": [
      "{'ridge__alpha': 1.0} 0.7797433364123606\n"
     ]
    }
   ],
   "source": [
    "from mlxtend.regressor import StackingRegressor\n",
    "from mlxtend.data import boston_housing_data\n",
    "from sklearn.linear_model import LinearRegression, Ridge, Lasso\n",
    "from sklearn.svm import SVR\n",
    "from sklearn.model_selection import train_test_split, GridSearchCV\n",
    "from sklearn.metrics import mean_squared_error\n",
    "import numpy as np\n",
    "import matplotlib.pyplot as plt\n",
    "\n",
    "\n",
    "x, y = boston_housing_data()\n",
    "x = x[:100]\n",
    "y = y[:100]\n",
    "# 划分数据集\n",
    "x_train, x_test, y_train, y_test = train_test_split(x, y, test_size=0.2)\n",
    "# 初始化基模型\n",
    "lr = LinearRegression()\n",
    "svr_lin = SVR(kernel='linear', gamma='auto')\n",
    "svr_rbf = SVR(kernel='rbf', gamma='auto')\n",
    "ridge = Ridge(random_state=2019,)\n",
    "models = [lr, svr_lin, svr_rbf, ridge]\n",
    "\n",
    "params = {\n",
    "    'ridge__alpha': [0.1, 1.0, 10.0],\n",
    "    }\n",
    "sclf = StackingRegressor(regressors=models, meta_regressor=ridge)\n",
    "# 训练回归器\n",
    "grid = GridSearchCV(estimator=sclf, param_grid=params, cv=5, refit=True)\n",
    "grid.fit(x_train, y_train)\n",
    "print(grid.best_params_, grid.best_score_)"
   ]
  }
 ],
 "metadata": {
  "kernelspec": {
   "display_name": "Python 3",
   "language": "python",
   "name": "python3"
  },
  "language_info": {
   "codemirror_mode": {
    "name": "ipython",
    "version": 3
   },
   "file_extension": ".py",
   "mimetype": "text/x-python",
   "name": "python",
   "nbconvert_exporter": "python",
   "pygments_lexer": "ipython3",
   "version": "3.6.8"
  }
 },
 "nbformat": 4,
 "nbformat_minor": 2
}
